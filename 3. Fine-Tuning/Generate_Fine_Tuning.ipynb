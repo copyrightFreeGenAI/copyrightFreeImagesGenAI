{
  "nbformat": 4,
  "nbformat_minor": 0,
  "metadata": {
    "colab": {
      "provenance": [],
      "authorship_tag": "ABX9TyMNOpXeToZ4+xO0i4+KRHnF",
      "include_colab_link": true
    },
    "kernelspec": {
      "name": "python3",
      "display_name": "Python 3"
    },
    "language_info": {
      "name": "python"
    }
  },
  "cells": [
    {
      "cell_type": "markdown",
      "metadata": {
        "id": "view-in-github",
        "colab_type": "text"
      },
      "source": [
        "<a href=\"https://colab.research.google.com/github/copyrightFreeGenAI/copyrightFreeImagesGenAI/blob/main/3.%20Fine-Tuning/Generate_Fine_Tuning.ipynb\" target=\"_parent\"><img src=\"https://colab.research.google.com/assets/colab-badge.svg\" alt=\"Open In Colab\"/></a>"
      ]
    },
    {
      "cell_type": "code",
      "execution_count": null,
      "metadata": {
        "id": "ySxuf743YU6q"
      },
      "outputs": [],
      "source": [
        "# Set Paths\n",
        "annValInstanceFiles = \"/content/gdrive/MyDrive/annotations2014/instances_train2014.json\" # Path to benchamrk instance json\n",
        "annValCaptionFiles = \"/content/gdrive/MyDrive/annotations2014/captions_train2014.json\" # Path to benchmark caption json\n",
        "source_directory = \"/content/gdrive/MyDrive/DATA/COCO/Validation/Images\" # Path to directory where benchmark MS COCO images are saved\n",
        "\n",
        "DREAM_WORKSPACE = '/content/gdrive/MyDrive/Fast-Dreambooth/Sessions' # Path to DreamBooth sessions\n",
        "DREAM_target_directory = \"/content/gdrive/MyDrive/Dream/Dream\" # Path to store DreamBooth Images\n",
        "LORA_WORKSPACE = '/content/gdrive/MyDrive/LoRA' # Path to LoRA sessions\n",
        "LORA_target_directory = \"/content/gdrive/MyDrive/LoRA/LoRA\" # Path to store LoRA Images\n",
        "TI_WORKSPACE = '/content/gdrive/MyDrive/Textual-Inversion' # Path to Textual Inversion sessions\n",
        "TI_target_directory = \"/content/gdrive/MyDrive/Textual-Inversion/Textual-Inversion\" # Path to store TI Images"
      ]
    },
    {
      "cell_type": "code",
      "source": [
        "from google.colab import drive\n",
        "drive.mount('/content/gdrive')"
      ],
      "metadata": {
        "id": "-dpEZg3Gk9RL"
      },
      "execution_count": null,
      "outputs": []
    },
    {
      "cell_type": "code",
      "source": [
        "from pycocotools.coco import COCO\n",
        "import os\n",
        "from diffusers import StableDiffusionPipeline, DiffusionPipeline"
      ],
      "metadata": {
        "id": "DC3-nfrJbF1e"
      },
      "execution_count": null,
      "outputs": []
    },
    {
      "cell_type": "code",
      "source": [
        "coco=COCO(annValInstanceFiles)\n",
        "coco_caps=COCO(annValCaptionFiles)\n",
        "cats = coco.loadCats(coco.getCatIds())"
      ],
      "metadata": {
        "id": "VaOmnJBMjXEu"
      },
      "execution_count": null,
      "outputs": []
    },
    {
      "cell_type": "markdown",
      "source": [
        "# Generate DreamBooth"
      ],
      "metadata": {
        "id": "68wM5Wuwb0_S"
      }
    },
    {
      "cell_type": "code",
      "source": [
        "for cat in cats:\n",
        "  print(cat['name'])\n",
        "  category = cat['name'].replace(\" \", \"_\")\n",
        "  img_taget = os.path.join(DREAM_target_directory, cat['name'])\n",
        "  checkpoint_path = os.path.join(DREAM_WORKSPACE, category, category+\".ckpt\")\n",
        "  if not os.path.exists(checkpoint_path):\n",
        "    continue\n",
        "  catIds = coco.getCatIds(catNms=[cat['name']])\n",
        "  imgIds = coco.getImgIds(catIds=catIds)\n",
        "  filenames = os.listdir(os.path.join(source_directory, cat['name']))\n",
        "  names_before_dot = [int(os.path.splitext(file)[0]) for file in filenames]\n",
        "  os.makedirs(img_taget, exist_ok=True)\n",
        "  if len(os.listdir(img_taget)) != 100:\n",
        "    pipeline = StableDiffusionPipeline.from_single_file(checkpoint_path, config=\"Mitsua/mitsua-diffusion-one\", safety_checker=None).to(\"cuda\")\n",
        "    for image_id in names_before_dot:\n",
        "      img_path = os.path.join(img_taget, str(image_id) + \".jpg\")\n",
        "      if os.path.exists(img_path):\n",
        "            continue\n",
        "      img = coco.loadImgs(imgIds[image_id])[0]\n",
        "      annIds = coco_caps.getAnnIds(imgIds=img['id'])\n",
        "      anns = coco_caps.loadAnns(annIds)\n",
        "      captions_list = [item['caption'].lower() for item in anns]\n",
        "      prompt = \"qwer. \" + ' '.join(captions_list)\n",
        "      prompt = prompt.replace(cat['name'], \"qwer\")\n",
        "      image = pipeline(prompt).images[0]\n",
        "      image.save(img_path)\n",
        "    del pipeline"
      ],
      "metadata": {
        "id": "bTZI8_Cdb2M3"
      },
      "execution_count": null,
      "outputs": []
    },
    {
      "cell_type": "markdown",
      "source": [
        "# Generate LoRA"
      ],
      "metadata": {
        "id": "scQtFmINkqxi"
      }
    },
    {
      "cell_type": "code",
      "source": [
        "for cat in cats:\n",
        "  print(cat['name'])\n",
        "  category = cat['name'].replace(\" \", \"_\")\n",
        "  img_taget = os.path.join(LORA_target_directory, cat['name'])\n",
        "  checkpoint_path = os.path.join(LORA_WORKSPACE, category, 'output', category+\"-20.safetensors\")\n",
        "  if not os.path.exists(checkpoint_path):\n",
        "    continue\n",
        "  catIds = coco.getCatIds(catNms=[cat['name']])\n",
        "  imgIds = coco.getImgIds(catIds=catIds)\n",
        "  filenames = os.listdir(os.path.join(source_directory, cat['name']))\n",
        "  names_before_dot = [int(os.path.splitext(file)[0]) for file in filenames]\n",
        "  os.makedirs(img_taget, exist_ok=True)\n",
        "  if len(os.listdir(img_taget)) != 100:\n",
        "    pipeline = DiffusionPipeline.from_pretrained(\"Mitsua/mitsua-diffusion-one\", safety_checker=None).to(\"cuda\")\n",
        "    pipeline.load_lora_weights(checkpoint_path)\n",
        "    for image_id in names_before_dot:\n",
        "      img_path = os.path.join(img_taget, str(image_id) + \".jpg\")\n",
        "      if os.path.exists(img_path):\n",
        "            continue\n",
        "      img = coco.loadImgs(imgIds[image_id])[0]\n",
        "      annIds = coco_caps.getAnnIds(imgIds=img['id'])\n",
        "      anns = coco_caps.loadAnns(annIds)\n",
        "      captions_list = [item['caption'].lower() for item in anns]\n",
        "      prompt = \"qwer. \" + ' '.join(captions_list)\n",
        "      prompt = prompt.replace(cat['name'], \"qwer\")\n",
        "      image = pipeline(prompt).images[0]\n",
        "      image.save(img_path)\n",
        "    del pipeline"
      ],
      "metadata": {
        "id": "wo615EoJksRN"
      },
      "execution_count": null,
      "outputs": []
    },
    {
      "cell_type": "markdown",
      "source": [
        "# Generate Textual Inversion"
      ],
      "metadata": {
        "id": "1ED3lPVGlOAT"
      }
    },
    {
      "cell_type": "code",
      "source": [
        "for category in os.listdir(source_directory):\n",
        "  print(category)\n",
        "  img_target = os.path.join(TI_target_directory, category)\n",
        "  os.makedirs(img_target, exist_ok=True)\n",
        "  if len(os.listdir(img_target)) == 100:\n",
        "    continue\n",
        "  dir_path = os.path.join(TI_WORKSPACE, category, 'learned_embeds.bin')\n",
        "  if not os.path.exists(dir_path):\n",
        "    continue\n",
        "  pipeline = DiffusionPipeline.from_pretrained(\"Mitsua/mitsua-diffusion-one\", safety_checker = None).to(\"cuda\")\n",
        "  pipeline.load_textual_inversion(dir_path)\n",
        "  catIds = coco.getCatIds(catNms=[category])\n",
        "  imgIds = coco.getImgIds(catIds=catIds)\n",
        "  filenames = os.listdir(os.path.join(source_directory, category))\n",
        "  names_before_dot = [int(os.path.splitext(file)[0]) for file in filenames]\n",
        "  for image_id in names_before_dot:\n",
        "      img_path = os.path.join(img_target, str(image_id) + \".jpg\")\n",
        "      if os.path.exists(img_path):\n",
        "        continue\n",
        "      img = coco.loadImgs(imgIds[image_id])[0]\n",
        "      annIds = coco_caps.getAnnIds(imgIds=img['id'])\n",
        "      anns = coco_caps.loadAnns(annIds)\n",
        "      captions_list = [item['caption'].lower() for item in anns]\n",
        "      prompt = category + ' '.join(captions_list)\n",
        "      prompt = prompt.replace(category, f\"<{category}>\")\n",
        "      image = pipeline(prompt).images[0]\n",
        "      image.save(img_path)\n",
        "  del pipeline"
      ],
      "metadata": {
        "id": "Rp1tO3cKlPto"
      },
      "execution_count": null,
      "outputs": []
    }
  ]
}