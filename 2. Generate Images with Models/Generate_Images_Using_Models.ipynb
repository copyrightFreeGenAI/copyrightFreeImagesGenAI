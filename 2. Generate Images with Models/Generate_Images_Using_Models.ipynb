{
  "nbformat": 4,
  "nbformat_minor": 0,
  "metadata": {
    "colab": {
      "provenance": [],
      "authorship_tag": "ABX9TyM3Z5MyVkISBaDoOY74XMFq",
      "include_colab_link": true
    },
    "kernelspec": {
      "name": "python3",
      "display_name": "Python 3"
    },
    "language_info": {
      "name": "python"
    }
  },
  "cells": [
    {
      "cell_type": "markdown",
      "metadata": {
        "id": "view-in-github",
        "colab_type": "text"
      },
      "source": [
        "<a href=\"https://colab.research.google.com/github/copyrightFreeGenAI/copyrightFreeImagesGenAI/blob/main/2.%20Generate%20Images%20with%20Models/Generate_Images_Using_Models.ipynb\" target=\"_parent\"><img src=\"https://colab.research.google.com/assets/colab-badge.svg\" alt=\"Open In Colab\"/></a>"
      ]
    },
    {
      "cell_type": "code",
      "source": [
        "# Set Paths\n",
        "annValInstanceFiles = \"/content/gdrive/MyDrive/annotations2014/instances_train2014.json\" # Path to benchmark instance json\n",
        "annValCaptionFiles = \"/content/gdrive/MyDrive/annotations2014/captions_train2014.json\" # Path to benchmark caption json\n",
        "\n",
        "source_directory = \"/content/gdrive/MyDrive/DATA/COCO/Validation/Images\" # Path to directory where validaiton MS COCO images were saved\n",
        "mitsua_target_directory = \"/content/gdrive/MyDrive//DATA/Mitsua\" # Path to directory where Mitsua images will be saved\n",
        "sd21_target_directory = \"/content/gdrive/MyDrive/DATA/SD2.1\" # Path to directory where SD2.1 images will be saved\n",
        "juggxl_target_directory = \"/content/gdrive/MyDrive/DATA/JuggXL\" # Path to directory where JuggXL images will be saved\n",
        "import os\n",
        "os.environ[\"OPENAI_API_KEY\"] = \"\" # OpenAI API Key"
      ],
      "metadata": {
        "id": "XS2lfn09l8QE"
      },
      "execution_count": null,
      "outputs": []
    },
    {
      "cell_type": "code",
      "execution_count": null,
      "metadata": {
        "id": "K61f0H7yk-3Q"
      },
      "outputs": [],
      "source": [
        "from google.colab import drive\n",
        "drive.mount('/content/gdrive')"
      ]
    },
    {
      "cell_type": "code",
      "source": [
        "from pycocotools.coco import COCO\n",
        "from diffusers import StableDiffusionPipeline, StableDiffusionXLPipeline\n",
        "import torch\n",
        "from PIL import Image\n",
        "import requests"
      ],
      "metadata": {
        "id": "5Z9drbz0mNGt"
      },
      "execution_count": null,
      "outputs": []
    },
    {
      "cell_type": "code",
      "source": [
        "coco=COCO(annValInstanceFiles)\n",
        "coco_caps=COCO(annValCaptionFiles)\n",
        "cats = coco.loadCats(coco.getCatIds())"
      ],
      "metadata": {
        "id": "SzGftCtBmeyN"
      },
      "execution_count": null,
      "outputs": []
    },
    {
      "cell_type": "markdown",
      "source": [
        "# Mitsua"
      ],
      "metadata": {
        "id": "L_65no-xl4bB"
      }
    },
    {
      "cell_type": "code",
      "source": [
        "model_id = \"Mitsua/mitsua-diffusion-one\"\n",
        "pipe = StableDiffusionPipeline.from_pretrained(model_id, safety_checker=None)\n",
        "pipe = pipe.to(\"cuda\")"
      ],
      "metadata": {
        "id": "ybfvk6H2mVj5"
      },
      "execution_count": null,
      "outputs": []
    },
    {
      "cell_type": "code",
      "source": [
        "for category in os.listdir(source_directory):\n",
        "    print(category)  # Log current category being processed\n",
        "\n",
        "    # Create target save directory for this category\n",
        "    save_dir = os.path.join(mitsua_target_directory, category)\n",
        "    os.makedirs(save_dir, exist_ok=True)\n",
        "\n",
        "    # Get COCO image IDs for this category\n",
        "    catIds = coco.getCatIds(catNms=[category])\n",
        "    imgIds = coco.getImgIds(catIds=catIds)\n",
        "\n",
        "    # Extract numeric image IDs from filenames (before the dot)\n",
        "    filenames = os.listdir(os.path.join(source_directory, category))\n",
        "    names_before_dot = [int(os.path.splitext(file)[0]) for file in filenames]\n",
        "\n",
        "    for image_id in names_before_dot:\n",
        "        img_path = os.path.join(save_dir, f\"{image_id}.jpg\")\n",
        "\n",
        "        # Skip if image already generated\n",
        "        if os.path.exists(img_path):\n",
        "            continue\n",
        "\n",
        "        # Load image and associated captions from COCO\n",
        "        img = coco.loadImgs(imgIds[image_id])[0]\n",
        "        annIds = coco_caps.getAnnIds(imgIds=img['id'])\n",
        "        anns = coco_caps.loadAnns(annIds)\n",
        "\n",
        "        # Combine all captions into a single prompt\n",
        "        captions_list = [item['caption'].lower() for item in anns]\n",
        "        prompt = ' '.join(captions_list)\n",
        "\n",
        "        # Generate image using the prompt and save it\n",
        "        image = pipe(prompt).images[0]\n",
        "        image.save(img_path)"
      ],
      "metadata": {
        "id": "Knra3P9PmdHd"
      },
      "execution_count": null,
      "outputs": []
    },
    {
      "cell_type": "markdown",
      "source": [
        "#Stable Diffusion 2.1"
      ],
      "metadata": {
        "id": "dBh-FEWunl-z"
      }
    },
    {
      "cell_type": "code",
      "source": [
        "model_id = \"stabilityai/stable-diffusion-2-1\"\n",
        "pipe = StableDiffusionPipeline.from_pretrained(model_id, safety_checker=None)\n",
        "pipe = pipe.to(\"cuda\")"
      ],
      "metadata": {
        "id": "YqPMEaPEr735"
      },
      "execution_count": null,
      "outputs": []
    },
    {
      "cell_type": "code",
      "source": [
        "for category in os.listdir(source_directory):\n",
        "    print(category)\n",
        "    save_dir = os.path.join(sd21_target_directory, category)\n",
        "    os.makedirs(save_dir, exist_ok=True)\n",
        "    catIds = coco.getCatIds(catNms=[category])\n",
        "    imgIds = coco.getImgIds(catIds=catIds)\n",
        "    filenames = os.listdir(os.path.join(source_directory, category))\n",
        "    names_before_dot = [int(os.path.splitext(file)[0]) for file in filenames]\n",
        "    for image_id in names_before_dot:\n",
        "        img_path = os.path.join(save_dir, str(image_id) + \".jpg\")\n",
        "        if os.path.exists(img_path):\n",
        "            continue\n",
        "        img = coco.loadImgs(imgIds[image_id])[0]\n",
        "        annIds = coco_caps.getAnnIds(imgIds=img['id'])\n",
        "        anns = coco_caps.loadAnns(annIds)\n",
        "        captions_list = [item['caption'].lower() for item in anns]\n",
        "        prompt = ' '.join(captions_list)\n",
        "        image = pipe(prompt).images[0]\n",
        "        image.save(img_path)"
      ],
      "metadata": {
        "id": "ffMOvpMsr_An"
      },
      "execution_count": null,
      "outputs": []
    },
    {
      "cell_type": "markdown",
      "source": [
        "# JuggXL"
      ],
      "metadata": {
        "id": "6FegUgJQsPZC"
      }
    },
    {
      "cell_type": "code",
      "source": [
        "pipeline = StableDiffusionXLPipeline.from_pretrained(\n",
        "      \"RunDiffusion/Juggernaut-XL-v9\", torch_dtype=torch.float16, variant=\"fp16\", use_safetensors=True, safety_checker=None\n",
        "  ).to(\"cuda\")"
      ],
      "metadata": {
        "id": "Fu9t50J9stom"
      },
      "execution_count": null,
      "outputs": []
    },
    {
      "cell_type": "code",
      "source": [
        "for category in os.listdir(source_directory):\n",
        "    print(category)\n",
        "    save_dir = os.path.join(juggxl_target_directory, category)\n",
        "    os.makedirs(save_dir, exist_ok=True)\n",
        "    catIds = coco.getCatIds(catNms=[category])\n",
        "    imgIds = coco.getImgIds(catIds=catIds)\n",
        "    filenames = os.listdir(os.path.join(source_directory, category))\n",
        "    names_before_dot = [int(os.path.splitext(file)[0]) for file in filenames]\n",
        "    for image_id in names_before_dot:\n",
        "        img_path = os.path.join(save_dir, str(image_id) + \".jpg\")\n",
        "        if os.path.exists(img_path):\n",
        "            continue\n",
        "        img = coco.loadImgs(imgIds[image_id])[0]\n",
        "        annIds = coco_caps.getAnnIds(imgIds=img['id'])\n",
        "        anns = coco_caps.loadAnns(annIds)\n",
        "        captions_list = [item['caption'].lower() for item in anns]\n",
        "        prompt = ' '.join(captions_list)\n",
        "        image = pipeline(prompt).images[0]\n",
        "        image.save(img_path)"
      ],
      "metadata": {
        "id": "14cQ88a9sy2C"
      },
      "execution_count": null,
      "outputs": []
    },
    {
      "cell_type": "markdown",
      "source": [
        "# Dall-E-2"
      ],
      "metadata": {
        "id": "VkhMKj6ts6ts"
      }
    },
    {
      "cell_type": "code",
      "source": [
        "!pip install openai==1.55.3 httpx==0.27.2 --force-reinstall --quiet"
      ],
      "metadata": {
        "id": "B1b-DFH6s9l3"
      },
      "execution_count": null,
      "outputs": []
    },
    {
      "cell_type": "code",
      "source": [
        "from openai import OpenAI\n",
        "client = OpenAI()"
      ],
      "metadata": {
        "id": "KzeOeGBItBIX"
      },
      "execution_count": null,
      "outputs": []
    },
    {
      "cell_type": "code",
      "source": [
        "for category in os.listdir(source_directory):\n",
        "  print(category)\n",
        "  img_target = os.path.join(target_directory, category)\n",
        "  os.makedirs(img_target, exist_ok=True)\n",
        "  catIds = coco.getCatIds(catNms=[category])\n",
        "  imgIds = coco.getImgIds(catIds=catIds)\n",
        "  filenames = os.listdir(os.path.join(source_directory, category))\n",
        "  names_before_dot = [int(os.path.splitext(file)[0]) for file in filenames]\n",
        "  for image_id in names_before_dot:\n",
        "    img_path = os.path.join(img_target, str(image_id) + \".jpg\")\n",
        "    if os.path.exists(img_path):\n",
        "      continue\n",
        "    img = coco.loadImgs(imgIds[image_id])[0]\n",
        "    annIds = coco_caps.getAnnIds(imgIds=img['id'])\n",
        "    anns = coco_caps.loadAnns(annIds)\n",
        "    captions_list = [item['caption'].lower() for item in anns]\n",
        "    prompt = ' '.join(captions_list)\n",
        "    try:\n",
        "      response = client.images.generate(\n",
        "        model=\"dall-e-2\",\n",
        "        prompt=prompt,\n",
        "        size=\"512x512\",\n",
        "        n=1,\n",
        "      )\n",
        "    except Exception as e:\n",
        "      print(f\"An unexpected error occurred: {e}\")\n",
        "      continue\n",
        "    image = response.data[0].url\n",
        "    image = Image.open(requests.get(image, stream=True).raw)\n",
        "    image.save(img_path)"
      ],
      "metadata": {
        "id": "u6x6Sbf4tUeb"
      },
      "execution_count": null,
      "outputs": []
    }
  ]
}